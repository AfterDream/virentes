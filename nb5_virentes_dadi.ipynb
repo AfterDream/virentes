{
 "metadata": {
  "name": "",
  "signature": "sha256:fe0ec50adcb356eb4dc43954d40e23da018d46f9f3677bd66c74666088c1cbdc"
 },
 "nbformat": 3,
 "nbformat_minor": 0,
 "worksheets": [
  {
   "cells": [
    {
     "cell_type": "markdown",
     "metadata": {},
     "source": [
      "# Live oaks introgression manuscript\n",
      "## Notebook 5: dadi analysis \n",
      "\n",
      "#### D. Eaton, A. Hipp, A. Gonzalez-Rodriguez & J. Cavender-Bares\n",
      "##### contact: deren.eaton@yale.edu  \n",
      "\n",
      "-----------------------   "
     ]
    },
    {
     "cell_type": "markdown",
     "metadata": {},
     "source": [
      "## Model selection and parameter estimation in _dadi_\n",
      "\n",
      "From the tutorial: \"\u2202a\u2202i is a powerful software tool for simulating the joint frequency spectrum (FS) of genetic variation among multiple populations and employing the FS for population-genetic inference\"  \n",
      "\n",
      "Here I will use the _dadi_ Python package to analyze the SFS from RADseq data assembled in _pyRAD_ for three oak species. "
     ]
    },
    {
     "cell_type": "code",
     "collapsed": false,
     "input": [
      "## import libraries\n",
      "import dadi\n",
      "import numpy as np\n",
      "import itertools as itt\n",
      "import pandas as pd\n",
      "import sys, os\n",
      "\n",
      "## prettier printing of arrays\n",
      "pd.set_option('precision',4)\n",
      "pd.set_option('chop_threshold', 0.001)\n",
      "\n",
      "## plotting libraries\n",
      "import matplotlib.pyplot as plt\n",
      "import seaborn as sns\n",
      "%matplotlib inline"
     ],
     "language": "python",
     "metadata": {},
     "outputs": [],
     "prompt_number": 2
    },
    {
     "cell_type": "markdown",
     "metadata": {},
     "source": [
      "### Convert SNP data to FS   \n",
      "For large data sets fs will be counted from many SNPs and so is easiest to read in from a file. In this case I convert a `.loci` output file with thousands of RADseq loci from an analysis in _pyRAD_ into the SNP format used by _dadi_, and then extract the site frequency spectrum from that file. "
     ]
    },
    {
     "cell_type": "code",
     "collapsed": false,
     "input": [
      "## a function to select most common element in a list\n",
      "def most_common(L):\n",
      "    return max(itt.groupby(sorted(L)),\n",
      "               key=lambda(x, v):(len(list(v)),\n",
      "               -L.index(x)))[0]\n",
      "\n",
      "## a function to get alleles from ambiguous bases\n",
      "def unstruct(amb):\n",
      "    \" returns bases from ambiguity code\"\n",
      "    D = {\"R\":[\"G\",\"A\"],\n",
      "         \"K\":[\"G\",\"T\"],\n",
      "         \"S\":[\"G\",\"C\"],\n",
      "         \"Y\":[\"T\",\"C\"],\n",
      "         \"W\":[\"T\",\"A\"],\n",
      "         \"M\":[\"C\",\"A\"]}\n",
      "    if amb in D:\n",
      "        return D.get(amb)\n",
      "    else:\n",
      "        return [amb,amb]"
     ],
     "language": "python",
     "metadata": {},
     "outputs": [],
     "prompt_number": 640
    },
    {
     "cell_type": "code",
     "collapsed": false,
     "input": [
      "## parse the loci\n",
      "locifile = open(\"analysis_pyrad/outfiles/virentes_c85d6m4p5.loci\")\n",
      "loci = locifile.read().strip().split(\"|\")[0:]"
     ],
     "language": "python",
     "metadata": {},
     "outputs": [],
     "prompt_number": 642
    },
    {
     "cell_type": "code",
     "collapsed": false,
     "input": [
      "## define focal populations and the outgroups\n",
      "cuba        = ['CUCA4','CUVN10','CUSV6']\n",
      "centralA    = ['CRL0030','CRL0001','HNDA09','BZBB1','MXSA3017']\n",
      "virginiana  = ['FLSF33','FLBA140','SCCU3','LALC2'] \n",
      "geminata    = [\"FLCK18\",\"FLSF54\",\"FLWO6\",\"FLAB109\"]\n",
      "minima      = [\"FLSF47\",\"FLMO62\",\"FLSA185\",\"FLCK216\"]\n",
      "outgroup    = [\"DO\",\"DU\",\"EN\",\"AR\",\"CH\",\"NI\",\"HE\",\"BJSB3\",\"BJVL19\",\"BJSL25\"]\n",
      "\n",
      "## florida is a composite of three 'species'\n",
      "florida = virginiana+geminata+minima"
     ],
     "language": "python",
     "metadata": {},
     "outputs": [],
     "prompt_number": 643
    },
    {
     "cell_type": "markdown",
     "metadata": {},
     "source": [
      "#### Projection of data "
     ]
    },
    {
     "cell_type": "code",
     "collapsed": false,
     "input": [
      "## minimum samples required to use the locus\n",
      "proj = [10,6,6]\n",
      "\n",
      "## only examine loci w/ at least 1 outgroup sample\n",
      "## and at least two inds from each focal populations\n",
      "Floci = []   ## filtered locus list\n",
      "for loc in loci:\n",
      "    names = [i.strip().split(\" \")[0] for i in loc.strip().split(\"\\n\")[:-1]]  \n",
      "    if len(set([\">\"+i for i in outgroup]).intersection(names)) >= 1:\n",
      "        if len(set([\">\"+i for i in florida]).intersection(names)) >= proj[0]/2:\n",
      "            if len(set([\">\"+i for i in centralA]).intersection(names)) >= proj[1]/2:\n",
      "                if len(set([\">\"+i for i in cuba]).intersection(names)) >= proj[2]/2:\n",
      "                    Floci.append(loc)"
     ],
     "language": "python",
     "metadata": {},
     "outputs": [],
     "prompt_number": 644
    },
    {
     "cell_type": "code",
     "collapsed": false,
     "input": [
      "## outfile location            \n",
      "outfile = open(\"oaks.dadi.snps\", 'w')\n",
      "    \n",
      "## print header\n",
      "print >>outfile, \"\\t\".join([\"REF\",\"OUT\",\n",
      "                            \"Allele1\",\"fl\",\"ca\",\"cu\",\n",
      "                            \"Allele2\",\"fl\",\"ca\",\"cu\",\n",
      "                            \"locus\",\"site\"])\n",
      "## recording values\n",
      "uncalled = 0\n",
      "calledSNP = 0\n",
      "uncalledSNP = 0\n",
      "\n",
      "## iterate over loci\n",
      "for locN, loc in enumerate(Floci):\n",
      "    ## to filter a single SNP per locus\n",
      "    singleSNP = 0\n",
      "\n",
      "    ## separate names, loci, and SNP identifier line\n",
      "    names = [i.strip().split(\" \")[0] for i in loc.strip().split(\"\\n\")[:-1]]  \n",
      "    dat = [i.strip().split(\" \")[-1] for i in loc.strip().split(\"\\n\")[:-1]]\n",
      "    snps = loc.strip().split(\"\\n\")[-1][14:]\n",
      "    \n",
      "    ## select ingroups v. outgroups\n",
      "    ihits = [names.index(\">\"+i) for i in cuba+centralA+florida \\\n",
      "             if \">\"+i in names]\n",
      "    ohits = [names.index(\">\"+i) for i in outgroup \\\n",
      "             if \">\"+i in names]\n",
      "    \n",
      "    ## select a single variable SNP from each locus\n",
      "    ## but also record how many are skipped for calculating\n",
      "    ## effective sequence length later\n",
      "    for site,char in enumerate(snps):\n",
      "        if char in [\"-\",\"*\"]:\n",
      "            ## get common (reference) alleles\n",
      "            i2 = [\"-\"+dat[k][site]+\"-\" for k in ihits if dat[k][site] not in [\"N\",\"-\"]]\n",
      "            o2 = [\"-\"+dat[k][site]+\"-\" for k in ohits if dat[k][site] not in [\"N\",\"-\"]]\n",
      "            ## filter out uninformative sites\n",
      "            b1 = any([i[1] not in ['N','-'] for i in i2])\n",
      "            b2 = any([i[1] not in ['N','-'] for i in o2])\n",
      "            if not (b1 and b2):\n",
      "                uncalled += 1\n",
      "            else:\n",
      "                ## if site is variable in the ingroups\n",
      "                if len(set(i2)) > 1:\n",
      "                    ## get the segregating alleles\n",
      "                    alleles = list(itt.chain(*[unstruct(i[1]) for i in i2]))\n",
      "                    allele1 = most_common(alleles)\n",
      "                    allele2 = most_common([i for i in alleles if i!=allele1])\n",
      "                    outg = most_common(list(itt.chain(*[unstruct(i[1]) for i in o2])))\n",
      "                    ## florida\n",
      "                    fl = [names.index(\">\"+z) for z in florida if \">\"+z in names]\n",
      "                    fldat = list(itt.chain(*[unstruct(dat[z][site]) for z in fl]))\n",
      "                    fl1,fl2 = fldat.count(allele1), fldat.count(allele2)\n",
      "                    ## central America\n",
      "                    ca = [names.index(\">\"+z) for z in centralA if \">\"+z in names]\n",
      "                    cadat = list(itt.chain(*[unstruct(dat[z][site]) for z in ca]))\n",
      "                    ca1,ca2 = cadat.count(allele1), cadat.count(allele2)\n",
      "                    ## cuba\n",
      "                    cu = [names.index(\">\"+z) for z in cuba if \">\"+z in names]\n",
      "                    cudat = list(itt.chain(*[unstruct(dat[z][site]) for z in cu]))\n",
      "                    cu1,cu2 = cudat.count(allele1), cudat.count(allele2)\n",
      "                    \n",
      "                    if not singleSNP:\n",
      "                        calledSNP += 1\n",
      "                        print >>outfile, \"\\t\".join(map(str,[\"-\"+allele1+\"-\",\n",
      "                                                        \"-\"+outg+\"-\",\n",
      "                                                        allele1, fl1, ca1, cu1,\n",
      "                                                        allele2, fl2, ca2, cu2,\n",
      "                                                        str(locN), str(site)])) \n",
      "                        singleSNP = 1\n",
      "                    else: \n",
      "                        uncalledSNP += 1\n",
      "\n",
      "outfile.close()\n",
      "\n",
      "Nloci = len(Floci)\n",
      "print \"loci\\t\",Nloci\n",
      "print \"bp\\t\",Nloci*90\n",
      "L = Nloci*90-uncalled\n",
      "print \"called bp\\t\",L\n",
      "print 'called SNP\\t', calledSNP\n",
      "print 'uncalledSNP\\t', uncalledSNP\n",
      "propcalled = calledSNP/float(calledSNP+uncalledSNP)\n",
      "print 'prop\\t', propcalled"
     ],
     "language": "python",
     "metadata": {},
     "outputs": [
      {
       "output_type": "stream",
       "stream": "stdout",
       "text": [
        "loci\t7794\n",
        "bp\t701460\n",
        "called bp\t701161\n",
        "called SNP\t2043\n",
        "uncalledSNP\t836\n",
        "prop\t0.709621396318\n"
       ]
      }
     ],
     "prompt_number": 645
    },
    {
     "cell_type": "markdown",
     "metadata": {},
     "source": [
      "#### The input file looks like this"
     ]
    },
    {
     "cell_type": "code",
     "collapsed": false,
     "input": [
      "! head -20 oaks.dadi.snps"
     ],
     "language": "python",
     "metadata": {},
     "outputs": [
      {
       "output_type": "stream",
       "stream": "stdout",
       "text": [
        "REF\tOUT\tAllele1\tfl\tca\tcu\tAllele2\tfl\tca\tcu\tlocus\tsite\r\n",
        "-C-\t-C-\tC\t19\t8\t6\tA\t1\t0\t0\t3\t56\r\n",
        "-G-\t-G-\tG\t15\t10\t6\tA\t1\t0\t0\t10\t37\r\n",
        "-G-\t-G-\tG\t20\t6\t6\tC\t2\t0\t0\t23\t11\r\n",
        "-C-\t-A-\tC\t19\t10\t5\tT\t1\t0\t1\t25\t25\r\n",
        "-T-\t-T-\tT\t13\t8\t6\tC\t1\t0\t0\t28\t78\r\n",
        "-C-\t-C-\tC\t22\t7\t6\tT\t0\t1\t0\t32\t78\r\n",
        "-T-\t-T-\tT\t16\t7\t6\tC\t2\t1\t0\t38\t65\r\n",
        "-T-\t-T-\tT\t18\t7\t6\tC\t0\t1\t0\t40\t80\r\n",
        "-G-\t-G-\tG\t9\t8\t6\tC\t13\t0\t0\t42\t29\r\n",
        "-T-\t-T-\tT\t11\t6\t6\tG\t3\t0\t0\t43\t84\r\n",
        "-T-\t-T-\tT\t10\t8\t4\tC\t2\t0\t0\t51\t85\r\n",
        "-C-\t-C-\tC\t22\t9\t6\tA\t0\t1\t0\t53\t10\r\n",
        "-T-\t-T-\tT\t12\t9\t6\tG\t0\t1\t0\t54\t28\r\n",
        "-T-\t-T-\tT\t16\t8\t6\tC\t2\t0\t0\t56\t86\r\n",
        "-T-\t-T-\tT\t15\t8\t6\tC\t1\t0\t0\t65\t40\r\n",
        "-C-\t-C-\tC\t8\t8\t6\tT\t2\t0\t0\t75\t68\r\n",
        "-C-\t-C-\tC\t11\t5\t6\tG\t1\t1\t0\t80\t6\r\n",
        "-T-\t-T-\tT\t22\t10\t4\tC\t0\t0\t2\t81\t87\r\n",
        "-C-\t-C-\tC\t14\t10\t6\tG\t4\t0\t0\t85\t10\r\n"
       ]
      }
     ],
     "prompt_number": 646
    },
    {
     "cell_type": "markdown",
     "metadata": {},
     "source": [
      "### Convert snps file to SFS \n",
      "After trying several projections, and with or without corners masked, I settled on the following data set. The projection maximizes data available for the three Cuban samples, and unmasking corners incorporates a significant amount of information about alleles that are fixed between populations, since the populations used here are fairly divergent. "
     ]
    },
    {
     "cell_type": "code",
     "collapsed": false,
     "input": [
      "## parse the snps file\n",
      "dd = dadi.Misc.make_data_dict('oaks.dadi.snps')\n",
      "\n",
      "## extract the fs from this dict with data not projected \n",
      "## down to fewer than the total samples\n",
      "fs = dadi.Spectrum.from_data_dict(dd,\n",
      "                                  pop_ids=[\"fl\",\"ca\",\"cu\"],\n",
      "                                  projections=proj, \n",
      "                                  polarized=True)"
     ],
     "language": "python",
     "metadata": {},
     "outputs": [],
     "prompt_number": 647
    },
    {
     "cell_type": "code",
     "collapsed": false,
     "input": [
      "## how many segregating sites after projection?\n",
      "print fs.S()"
     ],
     "language": "python",
     "metadata": {},
     "outputs": [
      {
       "output_type": "stream",
       "stream": "stdout",
       "text": [
        "1626.19720629\n"
       ]
      }
     ],
     "prompt_number": 668
    },
    {
     "cell_type": "markdown",
     "metadata": {},
     "source": [
      "# Define three _IM_-type models  \n",
      "Models `IM1` and `IM2` are isolation-migration models for a 3 population tree in which Cuba is derived from one lineage or the other. The `admix` model has the Cuban population formed as an instantaneous fusion of the other two populations, after which it does not exchange  gene flow with the parent populations. A separate population size is estimated for each population. Migration is set to zero between Florida and Central America. "
     ]
    },
    {
     "cell_type": "markdown",
     "metadata": {},
     "source": [
      "![](https://raw.githubusercontent.com/dereneaton/virentes/master/models_simple.png)"
     ]
    },
    {
     "cell_type": "markdown",
     "metadata": {},
     "source": [
      "### Model 1: Island conversion model"
     ]
    },
    {
     "cell_type": "code",
     "collapsed": false,
     "input": [
      "## scenario ((florida,cuba),centralA);\n",
      "\n",
      "def IM_split1(params, ns, pts):\n",
      "    ## parse params\n",
      "    N1,N2,N3,T2,T1,m13,m31,m23,m32 = params\n",
      "    \n",
      "    ## create a search grid\n",
      "    xx = dadi.Numerics.default_grid(pts)\n",
      "    \n",
      "    ## create ancestral pop\n",
      "    phi = dadi.PhiManip.phi_1D(xx)\n",
      "    \n",
      "    ## split ancestral pop into two species\n",
      "    phi = dadi.PhiManip.phi_1D_to_2D(xx,phi)\n",
      "    \n",
      "    ## allow drift to occur along each of these branches\n",
      "    phi = dadi.Integration.two_pops(phi, xx, T2, nu1=N1, nu2=N2, m12=0., m21=0.)\n",
      "    \n",
      "    ## split pop1 into pops 1 and 3\n",
      "    phi = dadi.PhiManip.phi_2D_to_3D_split_1(xx, phi)\n",
      "\n",
      "    ## allow drift and migration to occur along these branches\n",
      "    phi = dadi.Integration.three_pops(phi, xx, T1,\n",
      "                                       nu1=N1, nu2=N2, nu3=N3,  \n",
      "                                       m12=0.0, m13=m13, \n",
      "                                       m21=0.0, m23=m23,\n",
      "                                       m31=m31, m32=m32)\n",
      "    ## simulate the fs\n",
      "    fs = dadi.Spectrum.from_phi(phi,ns,(xx,xx,xx), \n",
      "                                pop_ids=['fl', 'ca', 'cu'])\n",
      "    return fs"
     ],
     "language": "python",
     "metadata": {},
     "outputs": [],
     "prompt_number": 11
    },
    {
     "cell_type": "markdown",
     "metadata": {},
     "source": [
      "### Model 2: Island conversion model"
     ]
    },
    {
     "cell_type": "code",
     "collapsed": false,
     "input": [
      "## scenario ((centralA,cuba),florida);\n",
      "\n",
      "def IM_split2(params, ns, pts):\n",
      "    ## parse params\n",
      "    N1,N2,N3,T2,T1,m13,m31,m23,m32 = params\n",
      "    \n",
      "    ## create a search grid\n",
      "    xx = dadi.Numerics.default_grid(pts)\n",
      "    \n",
      "    ## create ancestral pop\n",
      "    phi = dadi.PhiManip.phi_1D(xx)\n",
      "    \n",
      "    ## split ancestral pop into two species\n",
      "    phi = dadi.PhiManip.phi_1D_to_2D(xx,phi)\n",
      "    \n",
      "    ## allow drift to occur along each of these branches\n",
      "    phi = dadi.Integration.two_pops(phi, xx, T2, nu1=N1, nu2=N2, m12=0., m21=0.)\n",
      "    \n",
      "    ## split pop2 into pops 2 and 3\n",
      "    phi = dadi.PhiManip.phi_2D_to_3D_split_2(xx, phi)\n",
      "\n",
      "    ## allow drift and migration to occur along these branches\n",
      "    phi = dadi.Integration.three_pops(phi, xx, T1,\n",
      "                                      nu1=N1, nu2=N2, nu3=N3,  \n",
      "                                      m12=0.0, m13=m13, \n",
      "                                      m21=0.0, m23=m23,\n",
      "                                      m31=m31, m32=m32)\n",
      "    ## simulate the fs\n",
      "    fs = dadi.Spectrum.from_phi(phi,ns,(xx,xx,xx), \n",
      "                                pop_ids=['fl', 'ca', 'cu'])\n",
      "    return fs"
     ],
     "language": "python",
     "metadata": {},
     "outputs": [],
     "prompt_number": 12
    },
    {
     "cell_type": "markdown",
     "metadata": {},
     "source": [
      "### Model 3: instantaneous admixture"
     ]
    },
    {
     "cell_type": "code",
     "collapsed": false,
     "input": [
      "## scenario hybrid speciation forms cuba.\n",
      "\n",
      "def admix(params, ns, pts):\n",
      "    ## parse params\n",
      "    N1,N2,N3,T2,T1,f = params\n",
      "    \n",
      "    ## create a search grid\n",
      "    xx = dadi.Numerics.default_grid(pts)\n",
      "    \n",
      "    ## make ancestral pop that splits into two\n",
      "    phi = dadi.PhiManip.phi_1D(xx)\n",
      "    phi = dadi.PhiManip.phi_1D_to_2D(xx,phi)\n",
      "    \n",
      "    ## allow drift to occur along each of these branches\n",
      "    phi = dadi.Integration.two_pops(phi, xx, T2, nu1=N1, nu2=N2, m12=0., m21=0.)\n",
      "    \n",
      "    ## create pop 3 from a mixture of 1 and 2\n",
      "    phi = dadi.PhiManip.phi_2D_to_3D_admix(phi, f, xx, xx, xx)\n",
      "\n",
      "    ## allow drift and migration to occur along these branches\n",
      "    ## cuba population shrinks in size after divergence\n",
      "    phi = dadi.Integration.three_pops(phi, xx, T1,\n",
      "                                      nu1=N1, nu2=N2, nu3=N3,  \n",
      "                                      m12=0.0, m13=0.0, \n",
      "                                      m21=0.0, m23=0.0,\n",
      "                                      m31=0.0, m32=0.0)\n",
      "    ## simulate the fs\n",
      "    fs = dadi.Spectrum.from_phi(phi,ns,(xx,xx,xx),\n",
      "                                pop_ids=['fl', 'ca', 'cu'])\n",
      "    return fs"
     ],
     "language": "python",
     "metadata": {},
     "outputs": [],
     "prompt_number": 13
    },
    {
     "cell_type": "markdown",
     "metadata": {},
     "source": [
      "# Model fitting\n",
      "### Starting parameters and limits  "
     ]
    },
    {
     "cell_type": "code",
     "collapsed": false,
     "input": [
      "## sample sizes\n",
      "ns = fs.sample_sizes\n",
      "\n",
      "## points used for exrapolation\n",
      "pts_l = [12, 20, 32]\n",
      "\n",
      "## starting values for params\n",
      "N1 = N2 = N3 = 2.0\n",
      "T2 = 2.0\n",
      "T1 = 2.0\n",
      "m13 = m31 = m23 = m32 = 0.1\n",
      "f  = 0.4999\n",
      "\n",
      "## create starting parameter sets\n",
      "params_IM    = np.array([N1,N2,N3,T2,T1,m13,m31,m23,m32])\n",
      "params_admix = np.array([N1,N2,N3,T2,T1,f])\n",
      "\n",
      "## search limits \n",
      "upper_IM    = [10.0,10.0,10.0, 10.0,10.0, 25.0, 25.0, 25.0, 25.0]\n",
      "lower_IM    = [1e-3,1e-3,1e-3, 1e-3,1e-3, 1e-5, 1e-5, 1e-5, 1e-5]\n",
      "\n",
      "upper_admix = [10.0,10.0,10.0, 10.0,10.0, 0.9999]\n",
      "lower_admix = [1e-3,1e-3,1e-3, 1e-3,1e-3, 0.0001]"
     ],
     "language": "python",
     "metadata": {},
     "outputs": [],
     "prompt_number": 14
    },
    {
     "cell_type": "markdown",
     "metadata": {},
     "source": [
      "### Python script for model fitting \n",
      "\n",
      "I wrote a separate Python script for each model in which the parameters were estimated using the commands below. This was done 10 times for each model from different starting positions. These were executed in separate Python shells because optimization sometimes freezes in bad parameter space, and because it allowed easy parallelization. These scripts are available in the `git` repository as `dadi_m1X.py`, `dadi_m2X.py`, and `dadi_m3X.py`. "
     ]
    },
    {
     "cell_type": "code",
     "collapsed": false,
     "input": [
      "%%bash\n",
      "## example of running code\n",
      "## python dadi_m1X.py"
     ],
     "language": "python",
     "metadata": {},
     "outputs": [],
     "prompt_number": 15
    },
    {
     "cell_type": "code",
     "collapsed": false,
     "input": [
      "#### Example code for optimization inside dadi_m1X.py\n",
      "## model = IM_split1\n",
      "## params= params_IM\n",
      "## uppers= upper_IM\n",
      "## lowers= lower_IM\n",
      "## maxiters=10\n",
      "\n",
      "#### Create extrapolating function \n",
      "## Func = dadi.Numerics.make_extrap_log_func(model)\n",
      "\n",
      "#### Perturb start values\n",
      "## p0 = dadi.Misc.perturb_params(params, fold=2., \n",
      "##                              upper_bound=uppers,\n",
      "##                              lower_bound=lowers)\n",
      "\n",
      "#### optimize from starting position\n",
      "## args = [p0, fs, Func, pts_l, lowers, uppers, 0, maxiters]\n",
      "## popt = dadi.Inference.optimize_log_lbfgsb(*args)\n",
      "\n",
      "#### return the likelihood of the data under these parameters \n",
      "## mod = Func(popt, ns, pts_l)\n",
      "## ll_opt = dadi.Inference.ll_multinom(mod, fs)"
     ],
     "language": "python",
     "metadata": {},
     "outputs": []
    },
    {
     "cell_type": "markdown",
     "metadata": {},
     "source": [
      "### Optimized best fit from 10 random starting positions"
     ]
    },
    {
     "cell_type": "code",
     "collapsed": false,
     "input": [
      "## optimized at projection (10,6,6); extrap (12,20,32); S=1626\n",
      "ml1 = [2.5013156716397473, 0.68871161421841698, 0.076807020757753017,\n",
      "       0.70851628972828207, 0.14901468477012897, 0.14349173980106683,\n",
      "       12.58678666702065, 1.2625236526206685, 21.036230092460865, -543.08153591196356]\n",
      "\n",
      "ml2 = [2.412336866389539, 0.66060145092919675, 0.23061219403870617,\n",
      "       0.71073109877391338, 0.084218967415615298, 0.138041546493126,\n",
      "       6.036453130870238, 4.09467065466802, 0.0031179372963987696, -541.90248015938994]\n",
      "\n",
      "ml3 = [2.2562645699939852, 0.71705301735090954, 0.14307134998023263,\n",
      "       0.57976328038133673, 0.025790751880146609, 0.38345451331222341,\n",
      "       -555.34376821105138]"
     ],
     "language": "python",
     "metadata": {},
     "outputs": [],
     "prompt_number": 17
    },
    {
     "cell_type": "code",
     "collapsed": false,
     "input": [
      "indexnames = [\"N1\",\"N2\",\"N3\",\"T2\",\"T1\",\"m13\",\"m31\",\"m23\",\"m32\",\"LL\"]\n",
      "ML1 = pd.Series(ml1, index = indexnames)\n",
      "ML2 = pd.Series(ml2, index = indexnames)\n",
      "ML3 = pd.Series(ml3, index=[\"N1\",\"N2\",\"N3\",\"T2\",\"T1\",\"f\",\"LL\"])"
     ],
     "language": "python",
     "metadata": {},
     "outputs": [],
     "prompt_number": 501
    },
    {
     "cell_type": "code",
     "collapsed": false,
     "input": [
      "data = pd.DataFrame([ML1,ML2,ML3],index=[\"ML1\",\"ML2\",\"ML3\"]).T\n",
      "print data"
     ],
     "language": "python",
     "metadata": {},
     "outputs": [
      {
       "output_type": "stream",
       "stream": "stdout",
       "text": [
        "         ML1      ML2      ML3\n",
        "LL  -543.082 -541.902 -555.344\n",
        "N1     2.501    2.412    2.256\n",
        "N2     0.689    0.661    0.717\n",
        "N3     0.077    0.231    0.143\n",
        "T1     0.149    0.084    0.026\n",
        "T2     0.709    0.711    0.580\n",
        "f        NaN      NaN    0.383\n",
        "m13    0.143    0.138      NaN\n",
        "m23    1.263    4.095      NaN\n",
        "m31   12.587    6.036      NaN\n",
        "m32   21.036    0.003      NaN\n",
        "\n",
        "[11 rows x 3 columns]\n"
       ]
      }
     ],
     "prompt_number": 502
    },
    {
     "cell_type": "markdown",
     "metadata": {},
     "source": [
      "----------------   \n",
      "\n",
      "## Converting units\n",
      "\n",
      "### Get  $\\theta$ values"
     ]
    },
    {
     "cell_type": "code",
     "collapsed": false,
     "input": [
      "## optimized grid\n",
      "pts_l = [12,20,32]\n",
      "\n",
      "# The optimal value of theta given the model.\n",
      "Func = dadi.Numerics.make_extrap_log_func(IM_split1)\n",
      "model1_AFS = Func(ML1.tolist()[:-1],ns,pts_l)\n",
      "theta1 = dadi.Inference.optimal_sfs_scaling(model1_AFS, fs)\n",
      "\n",
      "# The optimal value of theta given the model.\n",
      "Func = dadi.Numerics.make_extrap_log_func(IM_split2)\n",
      "model2_AFS = Func(ML2.tolist()[:-1],ns,pts_l)\n",
      "theta2 = dadi.Inference.optimal_sfs_scaling(model2_AFS, fs)\n",
      "\n",
      "# The optimal value of theta given the model.\n",
      "Func = dadi.Numerics.make_extrap_log_func(admix)\n",
      "model3_AFS = Func(ML3.tolist()[:-1],ns,pts_l)\n",
      "theta3 = dadi.Inference.optimal_sfs_scaling(model3_AFS, fs)"
     ],
     "language": "python",
     "metadata": {},
     "outputs": [],
     "prompt_number": 20
    },
    {
     "cell_type": "markdown",
     "metadata": {},
     "source": [
      "### ML estimates in converted units"
     ]
    },
    {
     "cell_type": "code",
     "collapsed": false,
     "input": [
      "###### Fixed params\n",
      "mu = 2.5e-9         ## from Populus article by xxyy\n",
      "gentime = 150.0   ## (years) from Gugger & Cavender-Bares\n",
      "\n",
      "models = [ML1,ML2,ML3]\n",
      "thetas = [theta1,theta2,theta3]\n",
      "for model,theta in zip(models,thetas):\n",
      "    print \"\\n-----model %s-------\" % str(thetas.index(theta)+1)\n",
      "    ## Population sizes\n",
      "    Nref = theta/(4*mu*L)\n",
      "    print \"theta =\\t\",theta, \"(\"+str(theta/Nloci)+\")\"\n",
      "    print \"Nref =\\t\",round(Nref)\n",
      "    print \"N1 =\\t\",round(Nref*model[\"N1\"])\n",
      "    print \"N2 =\\t\",round(Nref*model[\"N2\"])\n",
      "    print \"N3 =\\t\",round(Nref*model[\"N3\"])\n",
      "    ## Divergence times\n",
      "    T1  = model[\"T1\"]\n",
      "    T12 = model[\"T1\"] + model[\"T2\"]\n",
      "    print 'T1  =\\t',round( ( T1*2*Nref * gentime)/1e6, 3), 'Mya'\n",
      "    print 'T12 =\\t',round( (T12*2*Nref * gentime)/1e6, 3), 'Mya'\n",
      "    ## Migration\n",
      "    if 'f' in model.index:\n",
      "        print 'f   =\\t', model['f']\n",
      "        print '1-f =\\t', 1-(model[\"f\"])\n",
      "    else:\n",
      "        print 'm13 =\\t', (model[\"m13\"])/(2*Nref) * 1e3\n",
      "        print 'm31 =\\t', (model[\"m31\"])/(2*Nref) * 1e3\n",
      "        print 'm23 =\\t', (model[\"m23\"])/(2*Nref) * 1e3\n",
      "        print 'm32 =\\t', (model[\"m32\"])/(2*Nref) * 1e3"
     ],
     "language": "python",
     "metadata": {},
     "outputs": [
      {
       "output_type": "stream",
       "stream": "stdout",
       "text": [
        "\n",
        "-----model 1-------\n",
        "theta =\t249.587274958 (0.0320230016626)\n",
        "Nref =\t35596.0\n",
        "N1 =\t89038.0\n",
        "N2 =\t24516.0\n",
        "N3 =\t2734.0\n",
        "T1  =\t1.591 Mya\n",
        "T12 =\t9.157 Mya\n",
        "m13 =\t0.00201554369684\n",
        "m31 =\t0.176799156281\n",
        "m23 =\t0.0177339238738\n",
        "m32 =\t0.295483496311\n",
        "\n",
        "-----model 2-------\n",
        "theta =\t256.759934829 (0.0329432813484)\n",
        "Nref =\t36619.0\n",
        "N1 =\t88338.0\n",
        "N2 =\t24191.0\n",
        "N3 =\t8445.0\n",
        "T1  =\t0.925 Mya\n",
        "T12 =\t8.733 Mya\n",
        "m13 =\t0.00188482188323\n",
        "m31 =\t0.0824218450692\n",
        "m23 =\t0.0559087104615\n",
        "m32 =\t4.25723747386e-05\n",
        "\n",
        "-----model 3-------\n",
        "theta =\t282.456200226 (0.0362402104472)\n",
        "Nref =\t40284.0\n",
        "N1 =\t90892.0\n",
        "N2 =\t28886.0\n",
        "N3 =\t5763.0\n",
        "T1  =\t0.312 Mya\n",
        "T12 =\t7.318 Mya\n",
        "f   =\t0.383454513312\n",
        "1-f =\t0.616545486688\n"
       ]
      }
     ],
     "prompt_number": 666
    },
    {
     "cell_type": "markdown",
     "metadata": {},
     "source": [
      "-------------   \n",
      "\n",
      "## Residual plots  \n",
      "\n",
      "### Model 1"
     ]
    },
    {
     "cell_type": "code",
     "collapsed": false,
     "input": [
      "plt.rcParams['figure.figsize'] = (6,6)\n",
      "dadi.Plotting.plot_3d_comp_multinom(model1_AFS, fs, vmin=0.1, resid_range=3,\n",
      "                                    pop_ids =('fl', 'ca', 'cu'))"
     ],
     "language": "python",
     "metadata": {},
     "outputs": [
      {
       "metadata": {},
       "output_type": "display_data",
       "png": "[encoded data removed]",
       "text": [
        "<matplotlib.figure.Figure at 0xd857a10>"
       ]
      }
     ],
     "prompt_number": 25
    },
    {
     "cell_type": "markdown",
     "metadata": {},
     "source": [
      "### Model 2"
     ]
    },
    {
     "cell_type": "code",
     "collapsed": false,
     "input": [
      "plt.rcParams['figure.figsize'] = (6,6)\n",
      "dadi.Plotting.plot_3d_comp_multinom(model2_AFS, fs, vmin=0.1, resid_range=3,\n",
      "                                    pop_ids =('fl', 'ca', 'cu'))"
     ],
     "language": "python",
     "metadata": {},
     "outputs": [
      {
       "metadata": {},
       "output_type": "display_data",
       "png": "[encoded data removed]",
       "text": [
        "<matplotlib.figure.Figure at 0xeeaf590>"
       ]
      },
      {
       "metadata": {},
       "output_type": "display_data",
       "text": [
        "<matplotlib.figure.Figure at 0x1087eb90>"
       ]
      }
     ],
     "prompt_number": 23
    },
    {
     "cell_type": "markdown",
     "metadata": {},
     "source": [
      "### Model 3"
     ]
    },
    {
     "cell_type": "code",
     "collapsed": false,
     "input": [
      "plt.rcParams['figure.figsize'] = (6,6)\n",
      "dadi.Plotting.plot_3d_comp_multinom(model3_AFS, fs, vmin=0.1, resid_range=3,\n",
      "                                    pop_ids =('fl', 'ca','cu'))"
     ],
     "language": "python",
     "metadata": {},
     "outputs": [
      {
       "metadata": {},
       "output_type": "display_data",
       "png": "[encoded data removed]",
       "text": [
        "<matplotlib.figure.Figure at 0x10897d90>"
       ]
      }
     ],
     "prompt_number": 24
    },
    {
     "cell_type": "markdown",
     "metadata": {},
     "source": [
      "---------------   \n",
      "\n",
      "## Parametric bootstrapping from simulated data in `ms`. \n",
      "\n",
      "We generate simulated data sets under the same demographic scenarios as in the dadi models. We save each of the simulated data sets because these will also be used for model selection below. "
     ]
    },
    {
     "cell_type": "markdown",
     "metadata": {},
     "source": [
      "## Functions for simulating data in `ms`"
     ]
    },
    {
     "cell_type": "code",
     "collapsed": false,
     "input": [
      "#############################################################\n",
      "### IM_split 1 \n",
      "def simSFS_model1(theta, N1,N2,N3,mig,T1, T12):\n",
      "    R1,R2,R3 = np.random.random_integers(0,9999999,3)\n",
      "    command = \"\"\" ms 22 7794 \\\n",
      "                     -t %(theta)f \\\n",
      "                     -I 3 10 6 6 \\\n",
      "                     -n 1 %(N1)f \\\n",
      "                     -n 2 %(N2)f \\\n",
      "                     -n 3 %(N3)f \\\n",
      "                     -en %(T1)f 1 %(N1)f \\\n",
      "                     -ma %(mig)s \\\n",
      "                     -ej %(T1)f 3 1 \\\n",
      "                     -ej %(T12)f 2 1 \\\n",
      "                     -en %(T12)f 1 1 \\\n",
      "                     -seeds %(R1)f %(R2)f %(R3)f \"\"\"\n",
      "    sub_dict = {'theta':theta, 'N1':N1, 'N2':N2, 'N3':N3,\n",
      "                'T1':T1, 'mig':\" \".join(mig),\n",
      "                'R1':R1, 'R2':R2, 'R3':R3}\n",
      "    mscommand = command % sub_dict\n",
      "    fs = dadi.Spectrum.from_ms_file(os.popen(mscommand), average=False)\n",
      "    return fs\n",
      "\n",
      "###############################################################\n",
      "## IM_split 2\n",
      "def simSFS_model2(theta, N1,N2,N3,mig,T1, T12):\n",
      "    R1,R2,R3 = np.random.random_integers(0,9999999,3)\n",
      "    command = \"\"\" ms 22 7794 \\\n",
      "                     -t %(theta)f \\\n",
      "                     -I 3 10 6 6 \\\n",
      "                     -n 1 %(N1)f \\\n",
      "                     -n 2 %(N2)f \\\n",
      "                     -n 3 %(N3)f \\\n",
      "                     -en %(T1)f 2 %(N2)f \\\n",
      "                     -ma %(mig)s \\\n",
      "                     -ej %(T1)f 3 2 \\\n",
      "                     -ej %(T12)f 2 1 \\\n",
      "                     -en %(T12)f 1 1 \\\n",
      "                     -seeds %(R1)f %(R2)f %(R3)f \"\"\"\n",
      "    sub_dict = {'theta':theta, 'N1':N1, 'N2':N2, 'N3':N3,\n",
      "                'T1':T1, 'mig':\" \".join(mig),\n",
      "                'R1':R1, 'R2':R2, 'R3':R3}\n",
      "    mscommand = command % sub_dict\n",
      "    fs = dadi.Spectrum.from_ms_file(os.popen(mscommand), average=False)\n",
      "    return fs\n",
      "\n",
      "#################################################################\n",
      "## Admix\n",
      "def simSFS_model3(theta, N1,N2,N3,T1, T12,f):\n",
      "    R1,R2,R3 = np.random.random_integers(0,9999999,3)\n",
      "    command = \"\"\" ms 22 7794 \\\n",
      "                     -t %(theta)f \\\n",
      "                     -I 3 10 6 6 \\\n",
      "                     -n 1 %(N1)f \\\n",
      "                     -n 2 %(N2)f \\\n",
      "                     -n 3 %(N3)f \\\n",
      "                     -en %(T1)f 2 %(N2)f \\\n",
      "                     -en %(T1)f 1 %(N1)f \\\n",
      "                     -es %(T1)f 3 %(f)f \\\n",
      "                     -ej %(T1)f 4 2 \\\n",
      "                     -ej %(T1)f 3 1 \\\n",
      "                     -ej %(T12)f 2 1 \\\n",
      "                     -en %(T12)f 1 1 \\\n",
      "                     -seeds %(R1)f %(R2)f %(R3)f \"\"\"\n",
      "    sub_dict = {'theta':theta, 'N1':N1, 'N2':N2, 'N3':N3,\n",
      "                'T1':T1, 'f':f,\n",
      "                'R1':R1, 'R2':R2, 'R3':R3}\n",
      "    mscommand = command % sub_dict\n",
      "    fs = dadi.Spectrum.from_ms_file(os.popen(mscommand), average=False)\n",
      "    return fs"
     ],
     "language": "python",
     "metadata": {},
     "outputs": [],
     "prompt_number": 636
    },
    {
     "cell_type": "markdown",
     "metadata": {},
     "source": [
      "### Estimated parameters"
     ]
    },
    {
     "cell_type": "markdown",
     "metadata": {},
     "source": [
      "#### Execute Python scripts with the above code in a separate shell\n",
      "This creates 200 parametric bootstrap data sets for each of the three models, and re-estimates parameters under each of the three models. The sfs for each bootstrap data set is saved in a directory called pboots/. The Python scripts to execute this are in the `git` repository as `dadi_m1boot_fit3.py`, `dadi_m2boot_fit3.py`, and `dadi_m3boot_fit3.py`. Nine output files were created and in are in the `git` repo. For example, the optimized parameters for a data set simulated under model 1 and fit using model 2 is saved to the file `dadi_m1_f2_boots.txt`."
     ]
    },
    {
     "cell_type": "code",
     "collapsed": false,
     "input": [
      "%%bash\n",
      "## commented out b/c it takes a long time to run\n",
      "\n",
      "## for i in $(seq 1 200);\n",
      "##   do python dadi_m1boot_fit3.py\n",
      "## done\n",
      "\n",
      "## for i in $(seq 1 200);\n",
      "##   do python dadi_m1boot_fit3.py\n",
      "## done\n",
      "\n",
      "## for i in $(seq 1 100);\n",
      "##   do python dadi_m3boot_fit3.py\n",
      "## done"
     ],
     "language": "python",
     "metadata": {},
     "outputs": [],
     "prompt_number": 510
    },
    {
     "cell_type": "markdown",
     "metadata": {},
     "source": [
      "### Calculate biased-corrected confidence intervals"
     ]
    },
    {
     "cell_type": "code",
     "collapsed": false,
     "input": [
      "###### Fixed params\n",
      "mu = 2.5e-9         ## from Populus article by xxyy\n",
      "gentime = 150.0   ## (years) from Gugger & Cavender-Bares\n",
      "\n",
      "def makedict(bootfile, theta):    \n",
      "    ## parse file\n",
      "    DD = {}\n",
      "    infile = open(bootfile).readlines()\n",
      "    lines = [i.strip().split(\"\\t\") for i in infile]\n",
      "    bootorder = [int(i[0].replace(\"boot\",\"\")) for i in lines]\n",
      "    elements = [\"N1\",\"N2\",\"N3\",\"T2\",\"T1\"]\n",
      "    for el,li in zip(elements, range(1,6)):\n",
      "        DD[el] = [float(i[li]) for i in lines]\n",
      "    if len(lines[0]) > 8:\n",
      "        elements = [\"m13\",\"m31\",\"m23\",\"m32\",\"LL\"]\n",
      "        for el,li in zip(elements, range(6,11)):\n",
      "            DD[el] = [float(i[li]) for i in lines]\n",
      "    else:\n",
      "        DD['f'] = [float(i[6]) for i in lines]\n",
      "        DD['LL'] = [float(i[7]) for i in lines]\n",
      "    DD['sLL'] = [DD[\"LL\"][i-1] for i in bootorder[:60]]\n",
      "    return DD"
     ],
     "language": "python",
     "metadata": {},
     "outputs": [],
     "prompt_number": 575
    },
    {
     "cell_type": "markdown",
     "metadata": {},
     "source": [
      "### Model 1"
     ]
    },
    {
     "cell_type": "code",
     "collapsed": false,
     "input": [
      "DD = makedict(\"dadi_m1_f1_boots.txt\", theta1)\n",
      "\n",
      "#############################\n",
      "Nref = theta1/(4*mu*L)\n",
      "#############################\n",
      "\n",
      "print \"Model 1\"\n",
      "for param in [\"N1\",\"N2\",\"N3\"]:\n",
      "    m = np.mean([(i*Nref) for i in DD[param]])\n",
      "    s = np.std([(i*Nref) for i in DD[param]])\n",
      "    o = (ML1[param]*Nref)\n",
      "    unbiased = o-(m-o)\n",
      "    print param, max(0,unbiased-1.96*s), o, unbiased+1.96*s\n",
      "\n",
      "#############################\n",
      "m = np.mean([(i*Nref*2*gentime)/1e6 for i in DD[\"T1\"]])\n",
      "s = np.std([(i*Nref*2*gentime)/1e6 for i in DD[\"T1\"]])\n",
      "o = (ML1[\"T1\"]*Nref*2*gentime)/1e6\n",
      "unbiased = o-(m-o)\n",
      "print \"T1\", max(0,unbiased-1.96*s), o, unbiased+1.96*s\n",
      "m = np.mean([(i*Nref*2*gentime)/1e6 for i in (DD[\"T1\"]+DD[\"T2\"])])\n",
      "s = np.std([(i*Nref*2*gentime)/1e6 for i in (DD[\"T1\"]+DD[\"T2\"])])\n",
      "o = ((ML1[\"T1\"]+ML1[\"T2\"])*Nref*2*gentime)/1e6\n",
      "unbiased = o-(m-o)\n",
      "print \"T12\", max(0,unbiased-1.96*s), o, unbiased+1.96*s\n",
      "\n",
      "    \n",
      "#############################\n",
      "for param in [\"m13\",\"m31\",\"m23\",\"m32\"]:\n",
      "    m = np.mean([i/(2*Nref) for i in DD[param]])\n",
      "    s = np.std([i/(2*Nref) for i in DD[param]])\n",
      "    o = (ML1[param]/(2*Nref))\n",
      "    unbiased = o-(m-o)\n",
      "    print param, max(0,(unbiased-1.96*s)*1e3), o*1e3, (unbiased+1.96*s)*1e3\n",
      "    \n",
      "m = np.mean(DD[\"LL\"])\n",
      "s = np.std(DD[\"LL\"])\n",
      "o = ML1[\"LL\"]\n",
      "unbiased = o-(m-o)\n",
      "print \"LL\", m-1.96*s, o, m+1.96*s"
     ],
     "language": "python",
     "metadata": {},
     "outputs": [
      {
       "output_type": "stream",
       "stream": "stdout",
       "text": [
        "Model 1\n",
        "N1 71475.9003173 89037.5480517 100269.854037\n",
        "N2 18585.0359322 24515.5755989 29469.4608854\n",
        "N3 0 2734.04467855 5301.53276347\n",
        "T1 0 1.06087386779 2.98899143383\n",
        "T12 4.7671172222 6.10498356632 13.3192247296\n",
        "m13 0 0.00201554369684 0.00779580837604\n",
        "m31 0.0204317889296 0.176799156281 0.338742961336\n",
        "m23 0.00280410835358 0.0177339238738 0.0298659118644\n",
        "m32 0.0155455991765 0.295483496311 0.519561371751\n",
        "LL -611.90667302 -543.081535912 -547.307616243\n"
       ]
      }
     ],
     "prompt_number": 576
    },
    {
     "cell_type": "markdown",
     "metadata": {},
     "source": [
      "## Model 2"
     ]
    },
    {
     "cell_type": "code",
     "collapsed": false,
     "input": [
      "DD = makedict(\"dadi_m2_f2_boots.txt\", theta2)\n",
      "\n",
      "#############################\n",
      "Nref = theta2/(4*mu*L)\n",
      "#############################\n",
      "print \"Model 2\"\n",
      "for param in [\"N1\",\"N2\",\"N3\"]:\n",
      "    m = np.mean([(i*Nref) for i in DD[param]])\n",
      "    s = np.std([(i*Nref) for i in DD[param]])\n",
      "    o = (ML2[param]*Nref)\n",
      "    unbiased = o-(m-o)\n",
      "    print param, max(0,unbiased-1.96*s), o, unbiased+1.96*s\n",
      "\n",
      "#############################\n",
      "m = np.mean([(i*Nref*2*gentime)/1e6 for i in DD[\"T1\"]])\n",
      "s = np.std([(i*Nref*2*gentime)/1e6 for i in DD[\"T1\"]])\n",
      "o = (ML2[\"T1\"]*Nref*2*gentime)/1e6\n",
      "unbiased = o-(m-o)\n",
      "print \"T1\", max(0,unbiased-1.96*s), o, unbiased+1.96*s\n",
      "m = np.mean([(i*Nref*2*gentime)/1e6 for i in (DD[\"T1\"]+DD[\"T2\"])])\n",
      "s = np.std([(i*Nref*2*gentime)/1e6 for i in (DD[\"T1\"]+DD[\"T2\"])])\n",
      "o = ((ML2[\"T1\"]+ML2[\"T2\"])*Nref*2*gentime)/1e6\n",
      "unbiased = o-(m-o)\n",
      "print \"T12\", max(0,unbiased-1.96*s), o, unbiased+1.96*s\n",
      "\n",
      "    \n",
      "#############################\n",
      "for param in [\"m13\",\"m31\",\"m23\",\"m32\"]:\n",
      "    m = np.mean([i/(2*Nref) for i in DD[param]])\n",
      "    s = np.std([i/(2*Nref) for i in DD[param]])\n",
      "    o = (ML2[param]/(2*Nref))\n",
      "    unbiased = o-(m-o)\n",
      "    print param, max(0,(unbiased-1.96*s)*1e3), o*1e3, (unbiased+1.96*s)*1e3\n",
      "    \n",
      "m = np.mean(DD[\"LL\"])\n",
      "s = np.std(DD[\"LL\"])\n",
      "o = ML2[\"LL\"]\n",
      "unbiased = o-(m-o)\n",
      "#print \"LL\", unbiased-1.96*s, o, unbiased+1.96*s\n",
      "print \"LL\", m-1.96*s, o, m+1.96*s"
     ],
     "language": "python",
     "metadata": {},
     "outputs": [
      {
       "output_type": "stream",
       "stream": "stdout",
       "text": [
        "Model 2\n",
        "N1 69722.5763103 88337.9789521 100024.420796\n",
        "N2 17818.7840481 24190.7330112 29340.4289636\n",
        "N3 2379.47192323 8444.84674878 13458.644633\n",
        "T1 0.121158770954 0.616807169395 1.01912581997\n",
        "T12 3.95276891776 5.82209584353 13.3210195777\n",
        "m13 0 0.00188482188323 0.00472397460442\n",
        "m31 0.00752720476581 0.0824218450692 0.148066108791\n",
        "m23 0.0242008829239 0.0559087104615 0.0867269369484\n",
        "m32 0 4.25723747386e-05 0.00426563585615\n",
        "LL -605.553218248 -541.902480159 -542.596028013\n"
       ]
      }
     ],
     "prompt_number": 578
    },
    {
     "cell_type": "markdown",
     "metadata": {},
     "source": [
      "## Model 3"
     ]
    },
    {
     "cell_type": "code",
     "collapsed": false,
     "input": [
      "DD = makedict(\"dadi_m3_f3_boots.txt\", theta2)\n",
      "\n",
      "#############################\n",
      "Nref = theta3/(4*mu*L)\n",
      "#############################\n",
      "print \"Model 3\"\n",
      "for param in [\"N1\",\"N2\",\"N3\"]:\n",
      "    m = np.mean([(i*Nref) for i in DD[param]])\n",
      "    s = np.std([(i*Nref) for i in DD[param]])\n",
      "    o = (ML3[param]*Nref)\n",
      "    unbiased = o-(m-o)\n",
      "    print param, max(0,unbiased-1.96*s), o, unbiased+1.96*s\n",
      "\n",
      "#############################\n",
      "m = np.mean([(i*Nref*2*gentime)/1e6 for i in DD[\"T1\"]])\n",
      "s = np.std([(i*Nref*2*gentime)/1e6 for i in DD[\"T1\"]])\n",
      "o = (ML3[\"T1\"]*Nref*2*gentime)/1e6\n",
      "unbiased = o-(m-o)\n",
      "print \"T1\", max(0,unbiased-1.96*s), o, unbiased+1.96*s\n",
      "m = np.mean([(i*Nref*2*gentime)/1e6 for i in (DD[\"T1\"]+DD[\"T2\"])])\n",
      "s = np.std([(i*Nref*2*gentime)/1e6 for i in (DD[\"T1\"]+DD[\"T2\"])])\n",
      "o = ((ML3[\"T1\"]+ML3[\"T2\"])*Nref*2*gentime)/1e6\n",
      "unbiased = o-(m-o)\n",
      "print \"T12\", max(0,unbiased-1.96*s), o, unbiased+1.96*s\n",
      "\n",
      "    \n",
      "#############################\n",
      "m = np.mean(DD[\"f\"])\n",
      "s = np.std(DD[\"f\"])\n",
      "o = (ML3['f'])\n",
      "unbiased = o-(m-o)\n",
      "print 'f', unbiased-1.96*s, o, unbiased+1.96*s\n",
      "    \n",
      "m = np.mean(DD[\"LL\"])\n",
      "s = np.std(DD[\"LL\"])\n",
      "o = ML3[\"LL\"]\n",
      "unbiased = o-(m-o)\n",
      "print \"LL\", m-1.96*s, o, m+1.96*s"
     ],
     "language": "python",
     "metadata": {},
     "outputs": [
      {
       "output_type": "stream",
       "stream": "stdout",
       "text": [
        "Model 3\n",
        "N1 70873.444192 90891.5237933 104798.634546\n",
        "N2 22628.9371512 28885.8151896 33641.5723239\n",
        "N3 342.65514223 5763.49652599 10702.788427\n",
        "T1 0.00782159313182 0.207791299774 0.382283092408\n",
        "T12 2.68608248258 4.87883641514 11.7944857239\n",
        "f 0.337902679016 0.383454513312 0.417653307748\n",
        "LL -632.794946497 -555.343768211 -566.776149859\n"
       ]
      }
     ],
     "prompt_number": 579
    },
    {
     "cell_type": "markdown",
     "metadata": {},
     "source": [
      "### Report 95% range of LL"
     ]
    },
    {
     "cell_type": "code",
     "collapsed": false,
     "input": [
      "DD = makedict(\"dadi_m1_f3_boots.txt\", theta2)\n",
      "m = np.mean(DD[\"LL\"])\n",
      "s = np.std(DD[\"LL\"])\n",
      "o = ML1[\"LL\"]\n",
      "print \"LL\", m-1.96*s, o, m+1.96*s"
     ],
     "language": "python",
     "metadata": {},
     "outputs": [
      {
       "output_type": "stream",
       "stream": "stdout",
       "text": [
        "LL -629.472792108 -543.081535912 -562.55636251\n"
       ]
      }
     ],
     "prompt_number": 506
    },
    {
     "cell_type": "code",
     "collapsed": false,
     "input": [
      "DD = makedict(\"dadi_m1_f2_boots.txt\", theta2)\n",
      "m = np.mean(DD[\"LL\"])\n",
      "s = np.std(DD[\"LL\"])\n",
      "o = ML1[\"LL\"]\n",
      "print \"LL\", m-1.96*s, o, m+1.96*s"
     ],
     "language": "python",
     "metadata": {},
     "outputs": [
      {
       "output_type": "stream",
       "stream": "stdout",
       "text": [
        "LL -618.44626393 -543.081535912 -550.43080575\n"
       ]
      }
     ],
     "prompt_number": 507
    },
    {
     "cell_type": "code",
     "collapsed": false,
     "input": [
      "DD = makedict(\"dadi_m2_f1_boots.txt\", theta2)\n",
      "m = np.mean(DD[\"LL\"])\n",
      "s = np.std(DD[\"LL\"])\n",
      "o = ML2[\"LL\"]\n",
      "print \"LL\", m-1.96*s, o, m+1.96*s"
     ],
     "language": "python",
     "metadata": {},
     "outputs": [
      {
       "output_type": "stream",
       "stream": "stdout",
       "text": [
        "LL -610.625740669 -541.902480159 -548.678268059\n"
       ]
      }
     ],
     "prompt_number": 508
    },
    {
     "cell_type": "code",
     "collapsed": false,
     "input": [
      "DD = makedict(\"dadi_m2_f3_boots.txt\", theta2)\n",
      "m = np.mean(DD[\"LL\"])\n",
      "s = np.std(DD[\"LL\"])\n",
      "o = ML2[\"LL\"]\n",
      "print \"LL\", m-1.96*s, o, m+1.96*s"
     ],
     "language": "python",
     "metadata": {},
     "outputs": [
      {
       "output_type": "stream",
       "stream": "stdout",
       "text": [
        "LL -626.694918671 -541.902480159 -562.578122564\n"
       ]
      }
     ],
     "prompt_number": 509
    },
    {
     "cell_type": "code",
     "collapsed": false,
     "input": [
      "DD = makedict(\"dadi_m3_f1_boots.txt\", theta2)\n",
      "m = np.mean(DD[\"LL\"])\n",
      "s = np.std(DD[\"LL\"])\n",
      "o = ML3[\"LL\"]\n",
      "print \"LL\", m-1.96*s, o, m+1.96*s"
     ],
     "language": "python",
     "metadata": {},
     "outputs": [
      {
       "output_type": "stream",
       "stream": "stdout",
       "text": [
        "LL -633.253767231 -555.343768211 -568.236956872\n"
       ]
      }
     ],
     "prompt_number": 510
    },
    {
     "cell_type": "code",
     "collapsed": false,
     "input": [
      "DD = makedict(\"dadi_m3_f2_boots.txt\", theta2)\n",
      "m = np.mean(DD[\"LL\"])\n",
      "s = np.std(DD[\"LL\"])\n",
      "o = ML3[\"LL\"]\n",
      "print \"LL\", m-1.96*s, o, m+1.96*s"
     ],
     "language": "python",
     "metadata": {},
     "outputs": [
      {
       "output_type": "stream",
       "stream": "stdout",
       "text": [
        "LL -638.846613236 -555.343768211 -571.185797893\n"
       ]
      }
     ],
     "prompt_number": 511
    },
    {
     "cell_type": "markdown",
     "metadata": {},
     "source": [
      "------------------   \n",
      "# Monte Carlo model selection:"
     ]
    },
    {
     "cell_type": "markdown",
     "metadata": {},
     "source": [
      "### Compare the area of overlap of log-likelihood ratio statistics $\\delta$ \n",
      "$\\delta$ = -2\\(log L$_2$ - log L$_1$)  \n",
      "\n",
      "following Boettiger et al. (2012)"
     ]
    },
    {
     "cell_type": "markdown",
     "metadata": {},
     "source": [
      "### Can we reject the simplest model (model 3)?"
     ]
    },
    {
     "cell_type": "markdown",
     "metadata": {},
     "source": [
      "Let's begin by assuming that model 3 is true (the null model). We ask how does the observed difference in log likelihoods for the fit of our empirical data to the two models ($\\delta_{32}$ and $\\delta_{31}$) compare to the difference in log likelihood fits when the data are simulated under model 3 ($\\delta_{32sim3}$, $\\delta_{31sim3}$)?"
     ]
    },
    {
     "cell_type": "code",
     "collapsed": false,
     "input": [
      "delta32obs = -2.*(ML3[\"LL\"] - ML2[\"LL\"])\n",
      "delta31obs = -2.*(ML3[\"LL\"] - ML1[\"LL\"])\n",
      "\n",
      "print 'LL model3:', ML3[\"LL\"]\n",
      "print 'LL model2:', ML2[\"LL\"]\n",
      "print 'LL model1:', ML1[\"LL\"]\n",
      "print 'delta32 observed:', delta32obs\n",
      "print 'delta31 observed:', delta31obs"
     ],
     "language": "python",
     "metadata": {},
     "outputs": [
      {
       "output_type": "stream",
       "stream": "stdout",
       "text": [
        "LL model3: -555.343768211\n",
        "LL model2: -541.902480159\n",
        "LL model1: -543.081535912\n",
        "delta32 observed: 26.8825761033\n",
        "delta31 observed: 24.5244645982\n"
       ]
      }
     ],
     "prompt_number": 609
    },
    {
     "cell_type": "markdown",
     "metadata": {},
     "source": [
      "#### Read in the optimized bootstrap fits. "
     ]
    },
    {
     "cell_type": "code",
     "collapsed": false,
     "input": [
      "W = ['title','N1','N2','N3','T2','T1','m13','m31','m23','m32','LL']\n",
      "LL31 = pd.read_table(\"dadi_m3_f1_boots.txt\", sep=\"\\t\", names=W, index_col=0).sort()[\"LL\"]\n",
      "\n",
      "W = ['title','N1','N2','N3','T2','T1','m13','m31','m23','m32','LL']\n",
      "LL32 = pd.read_table(\"dadi_m3_f2_boots.txt\", sep=\"\\t\", names=W, index_col=0).sort()[\"LL\"]\n",
      "\n",
      "W = ['title','N1','N2','N3','T2','T1','f','LL']\n",
      "LL33 = pd.read_table(\"dadi_m3_f3_boots.txt\", sep=\"\\t\", names=W, index_col=0).sort()[\"LL\"]"
     ],
     "language": "python",
     "metadata": {},
     "outputs": [],
     "prompt_number": 610
    },
    {
     "cell_type": "markdown",
     "metadata": {},
     "source": [
      "#### Measure the distribution of LL differences on data simulated under model 3"
     ]
    },
    {
     "cell_type": "code",
     "collapsed": false,
     "input": [
      "delta32sim3 = -2.*(LL33-LL32)\n",
      "delta31sim3 = -2.*(LL33-LL31)"
     ],
     "language": "python",
     "metadata": {},
     "outputs": [],
     "prompt_number": 611
    },
    {
     "cell_type": "markdown",
     "metadata": {},
     "source": [
      "#### Plot the observed and simulated LL differences between models"
     ]
    },
    {
     "cell_type": "code",
     "collapsed": false,
     "input": [
      "plt.rcParams['figure.figsize'] = (6,4)\n",
      "\n",
      "sns.kdeplot(delta32sim3, shade=True, label=\"$\\delta_{32}$\")\n",
      "sns.kdeplot(delta31sim3, shade=True, label=\"$\\delta_{31}$\")\n",
      "sns.despine()\n",
      "\n",
      "plt.vlines(delta32obs, 0, 0.05, lw=3, color='#262626', \n",
      "           label='$\\delta_{32obs}$', linestyles='dashed')\n",
      "plt.vlines(delta31obs, 0, 0.05, lw=3, color='#F65655', \n",
      "           label='$\\delta_{31obs}$', linestyles='dashed')\n",
      "plt.title(\"model 3 sims\")\n",
      "plt.legend(loc=2)"
     ],
     "language": "python",
     "metadata": {},
     "outputs": [
      {
       "metadata": {},
       "output_type": "pyout",
       "prompt_number": 551,
       "text": [
        "<matplotlib.legend.Legend at 0x22dad090>"
       ]
      },
      {
       "metadata": {},
       "output_type": "display_data",
       "png": "[encoded data removed]",
       "text": [
        "<matplotlib.figure.Figure at 0x22d9ae90>"
       ]
      }
     ],
     "prompt_number": 551
    },
    {
     "cell_type": "markdown",
     "metadata": {},
     "source": [
      "### Is the difference significantly outside the expectation?\n",
      "The proportion of sims greater than the observed delta values is 0. \n",
      "This is effectively a P-value for the probability that a difference at least this large would be seen under model 3. A more accurate way, though, is to calculate $\\delta^*$, the upper 95% or 99% percentile of the simulated distribution, and ask if our observed delta is greater than this. "
     ]
    },
    {
     "cell_type": "code",
     "collapsed": false,
     "input": [
      "delta32star = np.percentile(delta32sim3, 99)\n",
      "delta31star = np.percentile(delta31sim3, 99)\n",
      "print 'delta32star', delta32star\n",
      "print 'delta31star', delta31star\n",
      "print 'deltaobs', delta32obs"
     ],
     "language": "python",
     "metadata": {},
     "outputs": [
      {
       "output_type": "stream",
       "stream": "stdout",
       "text": [
        "delta32star 3.907066664\n",
        "delta31star 9.00921333\n",
        "deltaobs 26.8825761033\n"
       ]
      }
     ],
     "prompt_number": 604
    },
    {
     "cell_type": "markdown",
     "metadata": {},
     "source": [
      "### Can we reject model 3 for either of the more complex models? \n",
      "At a false positive rate of 0.05, Yes definitely, because observed $\\delta$ >> $\\delta^*$"
     ]
    },
    {
     "cell_type": "code",
     "collapsed": false,
     "input": [
      "print delta32obs > delta32star\n",
      "print delta31obs > delta31star"
     ],
     "language": "python",
     "metadata": {},
     "outputs": [
      {
       "output_type": "stream",
       "stream": "stdout",
       "text": [
        "True\n",
        "True\n"
       ]
      }
     ],
     "prompt_number": 553
    },
    {
     "cell_type": "markdown",
     "metadata": {},
     "source": [
      "## Power to reject model 3"
     ]
    },
    {
     "cell_type": "markdown",
     "metadata": {},
     "source": [
      "We next need to ask what is the probability that we correctly reject model 3 when the data comes from model 2 or model 1? This is a concern because the greater complexity of these models will bias us towards usually thinking they are better. "
     ]
    },
    {
     "cell_type": "markdown",
     "metadata": {},
     "source": [
      "### Load bootstrap data simulated under model 2."
     ]
    },
    {
     "cell_type": "code",
     "collapsed": false,
     "input": [
      "W = ['title','N1','N2','N3','T2','T1','m13','m31','m23','m32','LL']\n",
      "LL21 = pd.read_table(\"dadi_m2_f1_boots.txt\", sep=\"\\t\", names=W, index_col=0).sort()[\"LL\"]\n",
      "\n",
      "W = ['title','N1','N2','N3','T2','T1','m13','m31','m23','m32','LL']\n",
      "LL22 = pd.read_table(\"dadi_m2_f2_boots.txt\", sep=\"\\t\", names=W, index_col=0).sort()[\"LL\"]\n",
      "\n",
      "W = ['title','N1','N2','N3','T2','T1','f','LL']\n",
      "LL23 = pd.read_table(\"dadi_m2_f3_boots.txt\", sep=\"\\t\", names=W, index_col=0).sort()[\"LL\"]"
     ],
     "language": "python",
     "metadata": {},
     "outputs": [],
     "prompt_number": 554
    },
    {
     "cell_type": "markdown",
     "metadata": {},
     "source": [
      "### Calculate $\\delta_{32}$ under model 2 sims"
     ]
    },
    {
     "cell_type": "code",
     "collapsed": false,
     "input": [
      "delta32sim2 = -2.*(LL23-LL22)"
     ],
     "language": "python",
     "metadata": {},
     "outputs": [],
     "prompt_number": 615
    },
    {
     "cell_type": "markdown",
     "metadata": {},
     "source": [
      "### Compare $\\delta_{32}$ simulated under both models"
     ]
    },
    {
     "cell_type": "code",
     "collapsed": false,
     "input": [
      "plt.rcParams['figure.figsize'] = (6,4)\n",
      "plt.gcf().subplots_adjust(bottom=0.20, left=0.15)\n",
      "\n",
      "sns.set_style(\"ticks\")\n",
      "sns.set_context(\"paper\", font_scale=1.8, rc={\"lines.linewidth\": 2})\n",
      "sns.kdeplot(delta32sim2, shade=True, color=\"#898989\",label='$\\delta_{sim2}$')\n",
      "sns.kdeplot(delta32sim3, shade=True, color=\"#262626\", label='$\\delta_{sim3}$')\n",
      "sns.axlabel('Log Likelihood ratio ($\\delta$)', 'Density')\n",
      "sns.despine()\n",
      "\n",
      "#plt.vlines(delta32star, 0, 0.061, lw=3, color=\"#262626\", \n",
      "#           linestyles='dashed', label=\"$\\delta^{*}$\")\n",
      "plt.vlines(delta32obs, 0, 0.061, lw=3, color='#F65655',\n",
      "           linestyles='dashed', label='$\\delta_{obs}$')\n",
      "plt.legend(loc=1)\n",
      "plt.title(\"(B) models 2 vs. 3\")\n",
      "plt.savefig(\"delta32.png\", dpi=300)\n",
      "plt.savefig(\"delta32.svg\")"
     ],
     "language": "python",
     "metadata": {},
     "outputs": [
      {
       "metadata": {},
       "output_type": "display_data",
       "png": "[encoded data removed]",
       "text": [
        "<matplotlib.figure.Figure at 0x237eb290>"
       ]
      }
     ],
     "prompt_number": 616
    },
    {
     "cell_type": "markdown",
     "metadata": {},
     "source": [
      "### Calculate % overlap\n",
      "Our power to reject model 3 is measured by the proportion of the simulations under model 2 that are to the left of the critical delta32star from data simulated under model 3. Remember this value is the 95 percentile of the model 3 bootstraps (0.05 significance), and at this level we find we have 100% power to reject model 3 when model 2 is true (no overlap). "
     ]
    },
    {
     "cell_type": "code",
     "collapsed": false,
     "input": [
      "1.-sum(delta32sim2 < delta32star)/float(len(delta32sim2))"
     ],
     "language": "python",
     "metadata": {},
     "outputs": [
      {
       "metadata": {},
       "output_type": "pyout",
       "prompt_number": 599,
       "text": [
        "1.0"
       ]
      }
     ],
     "prompt_number": 599
    },
    {
     "cell_type": "markdown",
     "metadata": {},
     "source": [
      "## Now the same comparison against model 1"
     ]
    },
    {
     "cell_type": "markdown",
     "metadata": {},
     "source": [
      "### Load bootstrap data simulated under model 1"
     ]
    },
    {
     "cell_type": "code",
     "collapsed": false,
     "input": [
      "W = ['title','N1','N2','N3','T2','T1','m13','m31','m23','m32','LL']\n",
      "LL11 = pd.read_table(\"dadi_m1_f1_boots.txt\", sep=\"\\t\", names=W, index_col=0).sort()[\"LL\"]\n",
      "\n",
      "W = ['title','N1','N2','N3','T2','T1','m13','m31','m23','m32','LL']\n",
      "LL12 = pd.read_table(\"dadi_m1_f2_boots.txt\", sep=\"\\t\", names=W, index_col=0).sort()[\"LL\"]\n",
      "\n",
      "W = ['title','N1','N2','N3','T2','T1','f','LL']\n",
      "LL13 = pd.read_table(\"dadi_m1_f3_boots.txt\", sep=\"\\t\", names=W, index_col=0).sort()[\"LL\"]"
     ],
     "language": "python",
     "metadata": {},
     "outputs": [],
     "prompt_number": 558
    },
    {
     "cell_type": "markdown",
     "metadata": {},
     "source": [
      "### Calculate $\\delta_{31}$ under model 1 sims"
     ]
    },
    {
     "cell_type": "code",
     "collapsed": false,
     "input": [
      "delta31sim1 = -2.*(LL13-LL11)"
     ],
     "language": "python",
     "metadata": {},
     "outputs": [],
     "prompt_number": 617
    },
    {
     "cell_type": "markdown",
     "metadata": {},
     "source": [
      "### Compare $\\delta_{31}$ simulated under both models"
     ]
    },
    {
     "cell_type": "code",
     "collapsed": false,
     "input": [
      "plt.rcParams['figure.figsize'] = (6,4)\n",
      "plt.gcf().subplots_adjust(bottom=0.20, left=0.15)\n",
      "\n",
      "sns.set_style(\"ticks\")\n",
      "sns.set_context(\"paper\", font_scale=1.8, rc={\"lines.linewidth\": 2})\n",
      "sns.kdeplot(delta31sim1, shade=True, color=\"#898989\",label='$\\delta_{sim1}$')\n",
      "sns.kdeplot(delta31sim3, shade=True, color=\"#262626\", label='$\\delta_{sim3}$')\n",
      "sns.axlabel('Log Likelihood ratio ($\\delta$)', 'Density')\n",
      "sns.despine()\n",
      "\n",
      "plt.vlines(delta31obs, 0, 0.085, lw=3, color='#F65655',\n",
      "           linestyles='dashed', label='$\\delta_{obs}$')\n",
      "plt.legend(loc=1)\n",
      "plt.title(\"(A) models 1 vs. 3\")\n",
      "plt.savefig(\"delta31.png\", dpi=300)\n",
      "plt.savefig(\"delta31.svg\")"
     ],
     "language": "python",
     "metadata": {},
     "outputs": [
      {
       "metadata": {},
       "output_type": "display_data",
       "png": "[encoded data removed]",
       "text": [
        "<matplotlib.figure.Figure at 0x237c9290>"
       ]
      }
     ],
     "prompt_number": 618
    },
    {
     "cell_type": "markdown",
     "metadata": {},
     "source": [
      "#### Calculate % overlap\n",
      "Our power to reject model 3 is measured by the proportion of the simulations under model 1 that are to the left of the critical delta31star from data simulated under model 3. Remember this value is the 95 percentile of the model 3 bootstraps (0.05 significance), and at this level we find we have 92% power to reject model 3 when model 1 is true (no overlap). "
     ]
    },
    {
     "cell_type": "code",
     "collapsed": false,
     "input": [
      "1.-sum(delta31sim1 < delta31star)/float(len(delta31sim1))"
     ],
     "language": "python",
     "metadata": {},
     "outputs": [
      {
       "metadata": {},
       "output_type": "pyout",
       "prompt_number": 619,
       "text": [
        "0.99004975124378114"
       ]
      }
     ],
     "prompt_number": 619
    },
    {
     "cell_type": "markdown",
     "metadata": {},
     "source": [
      "------------------   \n",
      "# Compare models 2 & 1"
     ]
    },
    {
     "cell_type": "markdown",
     "metadata": {},
     "source": [
      "We'll begin by assuming model 1 is the true model. We can see already that the difference between models 2 and 1 is much smaller than it was between 2 and 3. But model 2 is a slightly better fit to the empirical data. "
     ]
    },
    {
     "cell_type": "code",
     "collapsed": false,
     "input": [
      "delta12obs = -2.*(ML1[\"LL\"] - ML2[\"LL\"])\n",
      "delta13obs = -2.*(ML1[\"LL\"] - ML3[\"LL\"])\n",
      "\n",
      "print 'LL model3:', ML3[\"LL\"]\n",
      "print 'LL model2:', ML2[\"LL\"]\n",
      "print 'LL model1:', ML1[\"LL\"]\n",
      "print 'delta12 observed:', delta12obs\n",
      "print 'delta13 observed:', delta13obs"
     ],
     "language": "python",
     "metadata": {},
     "outputs": [
      {
       "output_type": "stream",
       "stream": "stdout",
       "text": [
        "LL model3: -555.343768211\n",
        "LL model2: -541.902480159\n",
        "LL model1: -543.081535912\n",
        "delta12 observed: 2.35811150515\n",
        "delta13 observed: -24.5244645982\n"
       ]
      }
     ],
     "prompt_number": 623
    },
    {
     "cell_type": "markdown",
     "metadata": {},
     "source": [
      "### How much better?\n",
      "We compare the difference in their fit to the real data to the difference between them when data is simulated under model 1."
     ]
    },
    {
     "cell_type": "code",
     "collapsed": false,
     "input": [
      "delta12sim1 = -2.*(LL11-LL12)"
     ],
     "language": "python",
     "metadata": {},
     "outputs": [],
     "prompt_number": 624
    },
    {
     "cell_type": "markdown",
     "metadata": {},
     "source": [
      "#### Is our observed $\\delta$ > 95% of the bootstrap values simulated under model 1?\n",
      "Not quite, but we can reject model 1 in favor of model 2 at a P-value of 0.07."
     ]
    },
    {
     "cell_type": "code",
     "collapsed": false,
     "input": [
      "print 'obs=', delta12obs\n",
      "delta12star = np.percentile(delta12sim1, 95)\n",
      "print '\\ndelta*95=',delta12star\n",
      "print delta12obs > delta12star\n",
      "delta12star = np.percentile(delta12sim1, 94)\n",
      "print '\\ndelta*94=',delta12star\n",
      "print delta12obs > delta12star\n",
      "delta12star = np.percentile(delta12sim1, 93)\n",
      "print '\\ndelta*93=',delta12star\n",
      "print delta12obs > delta12star"
     ],
     "language": "python",
     "metadata": {},
     "outputs": [
      {
       "output_type": "stream",
       "stream": "stdout",
       "text": [
        "obs= 2.35811150515\n",
        "\n",
        "delta*95= 3.257462352\n",
        "False\n",
        "\n",
        "delta*94= 2.603696052\n",
        "False\n",
        "\n",
        "delta*93= 1.47879285\n",
        "True\n"
       ]
      }
     ],
     "prompt_number": 669
    },
    {
     "cell_type": "markdown",
     "metadata": {},
     "source": [
      "----------------  \n",
      "\n",
      "## Power to reject model 1\n",
      "What power do we have to reject model 1 if model 2 is the correct model?"
     ]
    },
    {
     "cell_type": "markdown",
     "metadata": {},
     "source": [
      "### Calculate $\\delta_{12}$ under model 2 sims"
     ]
    },
    {
     "cell_type": "code",
     "collapsed": false,
     "input": [
      "delta12sim2 = -2.*(LL21-LL22)"
     ],
     "language": "python",
     "metadata": {},
     "outputs": [],
     "prompt_number": 630
    },
    {
     "cell_type": "markdown",
     "metadata": {},
     "source": [
      "### Compare $\\delta_{12}$ simulated under both models"
     ]
    },
    {
     "cell_type": "code",
     "collapsed": false,
     "input": [
      "plt.rcParams['figure.figsize'] = (6,4)\n",
      "plt.gcf().subplots_adjust(bottom=0.20, left=0.15)\n",
      "\n",
      "sns.set_context(\"paper\", font_scale=1.8, rc={\"lines.linewidth\": 2})\n",
      "sns.kdeplot(delta12sim1, shade=True, color=\"#262626\", label='$\\delta_{sim1}$')\n",
      "sns.kdeplot(delta12sim2, shade=True, color=\"#898989\", label='$\\delta_{sim2}$')\n",
      "\n",
      "sns.axlabel('Log Likelihood ratio ($\\delta$)', 'Density')\n",
      "sns.despine()\n",
      "\n",
      "plt.vlines(delta12obs, 0, 0.055, lw=3, color='#F65655',\n",
      "           linestyles='dashed', label='$\\delta_{obs}$')\n",
      "\n",
      "plt.legend(loc=2)\n",
      "plt.title(\"(C) models 1 vs. 2\")\n",
      "plt.savefig(\"delta12.png\", dpi=300)\n",
      "plt.savefig(\"delta12.svg\")"
     ],
     "language": "python",
     "metadata": {},
     "outputs": [
      {
       "metadata": {},
       "output_type": "display_data",
       "png": "[encoded data removed]",
       "text": [
        "<matplotlib.figure.Figure at 0x22dcc850>"
       ]
      }
     ],
     "prompt_number": 631
    },
    {
     "cell_type": "markdown",
     "metadata": {},
     "source": [
      "### Calculate % overlap and power"
     ]
    },
    {
     "cell_type": "markdown",
     "metadata": {},
     "source": [
      "Our power to reject model 1 when model 2 at 0.05 false positive rate is only 85%, given our data. "
     ]
    },
    {
     "cell_type": "code",
     "collapsed": false,
     "input": [
      "sum(delta12sim2 > delta12star)/float(len(delta12sim2))"
     ],
     "language": "python",
     "metadata": {},
     "outputs": [
      {
       "metadata": {},
       "output_type": "pyout",
       "prompt_number": 632,
       "text": [
        "0.85572139303482586"
       ]
      }
     ],
     "prompt_number": 632
    }
   ],
   "metadata": {}
  }
 ]
}